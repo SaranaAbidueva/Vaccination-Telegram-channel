{
 "cells": [
  {
   "cell_type": "markdown",
   "metadata": {},
   "source": [
    "## Импорт выгруженных сообщений из Telegram-канала"
   ]
  },
  {
   "cell_type": "code",
   "execution_count": 1,
   "metadata": {},
   "outputs": [],
   "source": [
    "import json\n",
    "with open(\"channel_messages.json\", encoding='UTF-8') as jsonFile:\n",
    "    messages = json.load(jsonFile)\n",
    "    jsonFile.close()"
   ]
  },
  {
   "cell_type": "code",
   "execution_count": 2,
   "metadata": {},
   "outputs": [
    {
     "name": "stdout",
     "output_type": "stream",
     "text": [
      "['\"В настоящее время\\xa0ВОЗ\\xa0не рекомендует проводить поголовную вакцинацию детей и подростков, поскольку бремя тяжелых заболеваний в этих возрастных группах невелико, а высокий охват вакцинацией среди групп, подверженных наибольшему риску тяжелых заболеваний, еще не достигнут во всех странах\"', '⚡️ВОЗ не рекомендует проводить поголовную вакцинацию детей и подростков от COVID-19 – заявление', 'Спасибо!', 'Гемотест - не лучшая лаборатория, часто косячат с интересующими вас анализами. А так вам нужен abbot quant rbd - его много где делают', 'О госпитализациях с омикроном в Англии', 'https://www.imperial.ac.uk/mrc-global-infectious-disease-analysis/covid-19/report-50-severity-omicron/', 'Просто сделайте прививку. Даже если \"вдруг\", то хуже не будет', 'Здравствуйте, уважаемые! Помогите определиться по такому вопросу.\\nНе вакцинирована. Собираюсь в ближайшие дни. Ковидом вроде как не болела, но болел супруг. Я была в контакте в течение недели (сначала лечился дома, потом его положили в моногоспиталь), у меня никаких симптомов не появилось. ПЦР у меня взяли на 10 день от начала его болезни - отрицательно. Хочу перед прививкой сдать на антитела (а вдруг?). Сдавать буду в \"Гемотесте\". Какое из этих двух обследований мне лучше сдать?\\n1. Коронавирус SARS-CoV-2, нейтрализующие антитела IgG к S-белку (Код 20.158.)\\n2. Коронавирус SARS-CoV-2, нейтрализующие антитела IgG к RBD домену S-белка (Architect, Abbott) (Код 20.165.)? \\nИли любое из этих подойдёт.\\nБолел он в сентябре этого года.\\nСпасибо всем, кто ответит.', '3 дня лежала с темпой 37-38, сопли, от них кашель. Считаю, легко.\\nМуж без прививки. Те же симптомы, но дольше + горло, потеря запахов, вкусов.\\nДети бессимптомно. 2 из 3 тоже + по тестам', 'вы в итоге как долго болели и как перенесли?']\n"
     ]
    }
   ],
   "source": [
    "print(messages[:10])"
   ]
  },
  {
   "cell_type": "markdown",
   "metadata": {},
   "source": [
    "для наглядности посмотрели на первые 7 сообщений"
   ]
  },
  {
   "cell_type": "code",
   "execution_count": 3,
   "metadata": {},
   "outputs": [
    {
     "name": "stdout",
     "output_type": "stream",
     "text": [
      "\"В настоящее время ВОЗ не рекомендует проводить поголовную вакцинацию детей и подростков, поскольку бремя тяжелых заболеваний в этих возрастных группах невелико, а высокий охват вакцинацией среди групп, подверженных наибольшему риску тяжелых заболеваний, еще не достигнут во всех странах\"\n",
      "⚡️ВОЗ не рекомендует проводить поголовную вакцинацию детей и подростков от COVID-19 – заявление\n",
      "Спасибо!\n",
      "Гемотест - не лучшая лаборатория, часто косячат с интересующими вас анализами. А так вам нужен abbot quant rbd - его много где делают\n",
      "О госпитализациях с омикроном в Англии\n",
      "https://www.imperial.ac.uk/mrc-global-infectious-disease-analysis/covid-19/report-50-severity-omicron/\n",
      "Просто сделайте прививку. Даже если \"вдруг\", то хуже не будет\n"
     ]
    }
   ],
   "source": [
    "for message in messages[:7]:\n",
    "    print(message)"
   ]
  },
  {
   "cell_type": "markdown",
   "metadata": {},
   "source": [
    "# Предобработка данных"
   ]
  },
  {
   "cell_type": "markdown",
   "metadata": {},
   "source": [
    "## Нормализация\n",
    "убираем пунктуацию, ссылки, двойные пробелы"
   ]
  },
  {
   "cell_type": "code",
   "execution_count": 4,
   "metadata": {},
   "outputs": [],
   "source": [
    "import pkg_resources\n",
    "import re, string\n",
    "import spacy\n",
    "from tqdm.notebook import tqdm"
   ]
  },
  {
   "cell_type": "code",
   "execution_count": 5,
   "metadata": {},
   "outputs": [],
   "source": [
    "def simplify_punctuation_and_whitespace(sentence_list):\n",
    "    norm_sents = []\n",
    "    print(\"Normalizing whitespaces and punctuation\")\n",
    "    for sentence in tqdm(sentence_list):\n",
    "        sent = _replace_urls(sentence)\n",
    "        sent = _simplify_punctuation(sentence)\n",
    "        sent = _normalize_whitespace(sent)\n",
    "        norm_sents.append(sent)\n",
    "    return norm_sents\n",
    "\n",
    "def _replace_urls(text):\n",
    "    url_regex = r'(https?:\\/\\/(?:www\\.|(?!www))[a-zA-Z0-9][a-zA-Z0-9-]+[a-zA-Z0-9]\\.[^\\s]{2,}|www\\.[a-zA-Z0-9][a-zA-Z0-9-]+[a-zA-Z0-9]\\.[^\\s]{2,}|https?:\\/\\/(?:www\\.|(?!www))[a-zA-Z0-9]+\\.[^\\s]{2,}|www\\.[a-zA-Z0-9]+\\.[^\\s]{2,})'\n",
    "    text = re.sub(url_regex, \"<URL>\", text)\n",
    "    return text\n",
    "\n",
    "def _simplify_punctuation(text):\n",
    "    # This function simplifies doubled or more complex punctuation. The exception is '...'.\n",
    "    corrected = str(text)\n",
    "    corrected = re.sub(r'([!?,;])\\1+', r'\\1', corrected)\n",
    "    corrected = re.sub(r'\\.{2,}', r'...', corrected)\n",
    "    return corrected\n",
    "\n",
    "def _normalize_whitespace(text):\n",
    "    # This function normalizes whitespaces, removing duplicates\n",
    "    corrected = str(text)\n",
    "    corrected = re.sub(r\"//t\",r\"\\t\", corrected)\n",
    "    corrected = re.sub(r\"( )\\1+\",r\"\\1\", corrected)\n",
    "    corrected = re.sub(r\"(\\n)\\1+\",r\"\\1\", corrected)\n",
    "    corrected = re.sub(r\"(\\r)\\1+\",r\"\\1\", corrected)\n",
    "    corrected = re.sub(r\"(\\t)\\1+\",r\"\\1\", corrected)\n",
    "    return corrected.strip(\" \")"
   ]
  },
  {
   "cell_type": "markdown",
   "metadata": {},
   "source": [
    "## Лемматизация"
   ]
  },
  {
   "cell_type": "code",
   "execution_count": 6,
   "metadata": {},
   "outputs": [],
   "source": [
    "def lemmatize(sentence_list):\n",
    "    nlp = spacy.load(\"ru_core_news_sm\")\n",
    "    new_norm=[]\n",
    "    print(\"Lemmatizing Sentences\")\n",
    "    for sentence in tqdm(sentence_list):\n",
    "        new_norm.append(_lemmatize_text(sentence, nlp).strip())\n",
    "    return new_norm\n",
    "\n",
    "def _lemmatize_text(sentence, nlp):\n",
    "    sent = \"\"\n",
    "    doc = nlp(sentence)\n",
    "    for token in doc:\n",
    "        sent+=\" \"+token.lemma_\n",
    "    return sent"
   ]
  },
  {
   "cell_type": "code",
   "execution_count": 7,
   "metadata": {},
   "outputs": [],
   "source": [
    "def normalization_pipeline(sentences):\n",
    "    sentences = simplify_punctuation_and_whitespace(sentences)\n",
    "    sentences = lemmatize(sentences)\n",
    "    return sentences"
   ]
  },
  {
   "cell_type": "code",
   "execution_count": 8,
   "metadata": {},
   "outputs": [
    {
     "name": "stdout",
     "output_type": "stream",
     "text": [
      "Normalizing whitespaces and punctuation\n"
     ]
    },
    {
     "data": {
      "application/vnd.jupyter.widget-view+json": {
       "model_id": "8e2d7c76428f42bf99504c31bb7b178b",
       "version_major": 2,
       "version_minor": 0
      },
      "text/plain": [
       "HBox(children=(FloatProgress(value=0.0, max=5000.0), HTML(value='')))"
      ]
     },
     "metadata": {},
     "output_type": "display_data"
    },
    {
     "name": "stdout",
     "output_type": "stream",
     "text": [
      "\n",
      "Lemmatizing Sentences\n"
     ]
    },
    {
     "data": {
      "application/vnd.jupyter.widget-view+json": {
       "model_id": "8df67d065a2349c0b1dac0d4635fb5ea",
       "version_major": 2,
       "version_minor": 0
      },
      "text/plain": [
       "HBox(children=(FloatProgress(value=0.0, max=5000.0), HTML(value='')))"
      ]
     },
     "metadata": {},
     "output_type": "display_data"
    },
    {
     "name": "stdout",
     "output_type": "stream",
     "text": [
      "\n"
     ]
    }
   ],
   "source": [
    "messages_normed = normalization_pipeline(messages)"
   ]
  },
  {
   "cell_type": "markdown",
   "metadata": {},
   "source": [
    "## Токенизация"
   ]
  },
  {
   "cell_type": "code",
   "execution_count": 9,
   "metadata": {},
   "outputs": [],
   "source": [
    "def tokenize(text):\n",
    "    text = [string.lower() for string in text]\n",
    "    text = re.sub(r'[^а-яА-Я ^0-9 +]', '', str(text))\n",
    "    return text.split()"
   ]
  },
  {
   "cell_type": "code",
   "execution_count": 10,
   "metadata": {},
   "outputs": [
    {
     "name": "stdout",
     "output_type": "stream",
     "text": [
      "данные до предобработки:\n",
      "['в', 'настоящее', 'время0воз0не', 'рекомендует', 'проводить', 'поголовную', 'вакцинацию', 'детей', 'и', 'подростков', 'поскольку', 'бремя', 'тяжелых', 'заболеваний', 'в']\n",
      "данные после нормализации и лемматизации:\n",
      "['в', 'настоящий', 'время', '0', 'воз', '0', 'не', 'рекомендовать', 'проводить', 'поголовный', 'вакцинация', 'ребнок', 'и', 'подросток', 'поскольку']\n"
     ]
    }
   ],
   "source": [
    "tokenized_original = tokenize(messages)\n",
    "print('данные до предобработки:')\n",
    "print(tokenized_original[:15])\n",
    "tokenized_normalized = tokenize(messages_normed)\n",
    "print('данные после нормализации и лемматизации:')\n",
    "print(tokenized_normalized[:15])"
   ]
  },
  {
   "cell_type": "markdown",
   "metadata": {},
   "source": [
    "## Удаление стоп-слов"
   ]
  },
  {
   "cell_type": "code",
   "execution_count": 11,
   "metadata": {},
   "outputs": [
    {
     "name": "stdout",
     "output_type": "stream",
     "text": [
      "удаляем русские стоп-слова: \n",
      "['и', 'в', 'во', 'не', 'что', 'он', 'на', 'я', 'с', 'со', 'как', 'а', 'то', 'все', 'она', 'так', 'его', 'но', 'да', 'ты', 'к', 'у', 'же', 'вы', 'за', 'бы', 'по', 'только', 'ее', 'мне', 'было', 'вот', 'от', 'меня', 'еще', 'нет', 'о', 'из', 'ему', 'теперь', 'когда', 'даже', 'ну', 'вдруг', 'ли', 'если', 'уже', 'или', 'ни', 'быть', 'был', 'него', 'до', 'вас', 'нибудь', 'опять', 'уж', 'вам', 'ведь', 'там', 'потом', 'себя', 'ничего', 'ей', 'может', 'они', 'тут', 'где', 'есть', 'надо', 'ней', 'для', 'мы', 'тебя', 'их', 'чем', 'была', 'сам', 'чтоб', 'без', 'будто', 'чего', 'раз', 'тоже', 'себе', 'под', 'будет', 'ж', 'тогда', 'кто', 'этот', 'того', 'потому', 'этого', 'какой', 'совсем', 'ним', 'здесь', 'этом', 'один', 'почти', 'мой', 'тем', 'чтобы', 'нее', 'сейчас', 'были', 'куда', 'зачем', 'всех', 'никогда', 'можно', 'при', 'наконец', 'два', 'об', 'другой', 'хоть', 'после', 'над', 'больше', 'тот', 'через', 'эти', 'нас', 'про', 'всего', 'них', 'какая', 'много', 'разве', 'три', 'эту', 'моя', 'впрочем', 'хорошо', 'свою', 'этой', 'перед', 'иногда', 'лучше', 'чуть', 'том', 'нельзя', 'такой', 'им', 'более', 'всегда', 'конечно', 'всю', 'между']\n"
     ]
    },
    {
     "name": "stderr",
     "output_type": "stream",
     "text": [
      "[nltk_data] Downloading package stopwords to\n",
      "[nltk_data]     C:\\Users\\Admin\\AppData\\Roaming\\nltk_data...\n",
      "[nltk_data]   Package stopwords is already up-to-date!\n"
     ]
    }
   ],
   "source": [
    "import nltk\n",
    "from nltk.corpus import stopwords\n",
    "nltk.download(\"stopwords\")\n",
    "import copy\n",
    "russian_stopwords = stopwords.words(\"russian\")\n",
    "print('удаляем русские стоп-слова: ')\n",
    "print(russian_stopwords)\n",
    "def remove_stopwords(text):\n",
    "    text_new = copy.deepcopy(text)\n",
    "    print('removing stop-words')\n",
    "    for word in tqdm(text):\n",
    "        if word in russian_stopwords:\n",
    "            text_new.remove(word)\n",
    "    return text_new"
   ]
  },
  {
   "cell_type": "code",
   "execution_count": 12,
   "metadata": {},
   "outputs": [
    {
     "name": "stdout",
     "output_type": "stream",
     "text": [
      "removing stop-words\n"
     ]
    },
    {
     "data": {
      "application/vnd.jupyter.widget-view+json": {
       "model_id": "6cb66b2f31ca421280a44972152f7e08",
       "version_major": 2,
       "version_minor": 0
      },
      "text/plain": [
       "HBox(children=(FloatProgress(value=0.0, max=81125.0), HTML(value='')))"
      ]
     },
     "metadata": {},
     "output_type": "display_data"
    },
    {
     "name": "stdout",
     "output_type": "stream",
     "text": [
      "\n"
     ]
    }
   ],
   "source": [
    "preprocessed_data = remove_stopwords(tokenized_normalized)"
   ]
  },
  {
   "cell_type": "markdown",
   "metadata": {},
   "source": [
    "# Промежуточные результаты"
   ]
  },
  {
   "cell_type": "code",
   "execution_count": 13,
   "metadata": {},
   "outputs": [
    {
     "name": "stdout",
     "output_type": "stream",
     "text": [
      "количество слов до предобработки данных:  79342\n",
      "количество слов после предобработки данных:  49798\n",
      "количество уникальных слов до предобработки данных:  16630\n",
      "количество уникальных слов после нормализации и лемматизации:  9918\n",
      "количество уникальных слов после нормализации, лемматизации и удаления стоп-слов:  9780\n"
     ]
    }
   ],
   "source": [
    "import numpy as np\n",
    "print('количество слов до предобработки данных: ', len(tokenized_original))\n",
    "print('количество слов после предобработки данных: ', len(preprocessed_data))\n",
    "print('количество уникальных слов до предобработки данных: ', np.unique(tokenized_original).shape[0])\n",
    "print('количество уникальных слов после нормализации и лемматизации: ', np.unique(tokenized_normalized).shape[0])\n",
    "unique_words = np.unique(preprocessed_data)\n",
    "print('количество уникальных слов после нормализации, лемматизации и удаления стоп-слов: ', unique_words.shape[0])"
   ]
  },
  {
   "cell_type": "code",
   "execution_count": 14,
   "metadata": {},
   "outputs": [
    {
     "data": {
      "image/png": "[encoded data removed]",
      "text/plain": [
       "<Figure size 432x288 with 1 Axes>"
      ]
     },
     "metadata": {
      "needs_background": "light"
     },
     "output_type": "display_data"
    }
   ],
   "source": [
    "import matplotlib.pyplot as plt\n",
    "fig = plt.figure()\n",
    "ax = fig.add_axes([0,0,1,1])\n",
    "labels = ['original', 'normalized', '+removed stopwords']\n",
    "lengthes = [len(tokenized_original), len(tokenized_normalized), len(preprocessed_data)]\n",
    "ax.bar(labels, lengthes, color='b')\n",
    "uq_lengthes = [np.unique(tokenized_original).shape[0], np.unique(tokenized_normalized).shape[0], np.unique(preprocessed_data).shape[0]]\n",
    "ax.bar(labels, uq_lengthes, color='r')\n",
    "ax.legend(labels=['total number of words', 'number of unique words'])\n",
    "plt.show()"
   ]
  },
  {
   "cell_type": "code",
   "execution_count": 15,
   "metadata": {},
   "outputs": [],
   "source": [
    "def toDict():\n",
    "    words_dict = {}\n",
    "    for word in unique_words:\n",
    "        words_dict[word] = 0\n",
    "    for word in preprocessed_data:\n",
    "        words_dict[word] += 1\n",
    "    return words_dict"
   ]
  },
  {
   "cell_type": "code",
   "execution_count": 16,
   "metadata": {},
   "outputs": [],
   "source": [
    "def sort_dict(text):\n",
    "    dict1 = toDict()\n",
    "    sorted_values = sorted(dict1.values()) \n",
    "    sorted_dict = {}\n",
    "    for i in sorted_values:\n",
    "        for k in dict1.keys():\n",
    "            if dict1[k] == i:\n",
    "                sorted_dict[k] = dict1[k]\n",
    "                break\n",
    "    return sorted_dict"
   ]
  },
  {
   "cell_type": "code",
   "execution_count": 17,
   "metadata": {},
   "outputs": [
    {
     "name": "stdout",
     "output_type": "stream",
     "text": [
      "{'+10': 1, '01072022': 2, '025': 3, '044762': 4, '150': 5, '+1': 6, '120': 7, '24': 8, '1000': 9, '23': 10, '18': 11, '14': 12, '13': 13, '27': 14, 'антиваксеров': 15, '11': 16, '38': 17, 'ага': 18, '16': 19, '15': 20, '0900': 21, '000': 22, '60': 23, '50': 24, '2021': 25, '7': 26, 'близкий': 27, 'бустер': 28, 'волна': 29, '30': 30, 'лекарство': 31, 'жизнь': 32, '12': 33, 'больница': 34, 'взять': 35, '100': 36, 'всем': 37, '10': 38, 'видимо': 39, 'главный': 40, 'бау': 41, '20': 42, '4': 43, 'голиков': 44, 'группа': 45, 'брать': 46, 'воз': 47, 'мало': 48, 'значить': 49, 'мрнк': 50, 'вакцинировать': 51, 'госпитализация': 52, 'любой': 53, 'количество': 54, 'высокий': 55, 'сегодня': 56, 'лгкий': 57, 'данные': 58, 'место': 60, 'понимать': 61, 'именно': 62, 'защита': 63, 'понять': 64, 'интересный': 65, 'выявить': 67, 'вроде': 68, 'доза': 69, '5': 70, 'видеть': 71, 'вариант': 72, 'заражение': 73, '0': 74, 'декабрь': 75, 'почему': 76, 'маска': 77, 'пройти': 78, '19': 79, 'иметь': 80, 'антитело': 81, 'исследование': 82, 'давать': 83, 'анализ': 84, 'каждый': 85, 'второй': 86, '200': 87, 'вс': 88, 'пцр': 89, 'ничто': 91, 'должный': 93, 'болезнь': 94, '+': 95, 'неделя': 96, 'антител': 97, '3': 98, 'время': 101, 'очень': 102, 'заболеть': 105, 'переболеть': 107, 'вирус': 108, '1': 111, 'вопрос': 113, 'думать': 115, 'иммунитет': 121, 'вообще': 123, 'москва': 128, 'прививка': 129, 'сделать': 130, 'свой': 131, 'первый': 132, 'врач': 133, 'нужный': 134, 'россия': 135, 'хороший': 137, 'сказать': 139, '2': 141, 'говорить': 144, 'месяц': 146, 'знать': 150, 'случай': 151, 'код': 154, 'пока': 162, 'делать': 169, 'ещ': 171, 'вакцинация': 181, 'болеть': 182, 'коронавирус': 185, 'новый': 203, 'штамм': 206, 'день': 239, 'год': 279, 'спутник': 288, 'весь': 306, 'мочь': 346, 'вакцина': 349, 'омикрон': 404, 'это': 903}\n"
     ]
    }
   ],
   "source": [
    "sorted_dict = sort_dict(preprocessed_data)\n",
    "print(sorted_dict)"
   ]
  },
  {
   "cell_type": "code",
   "execution_count": 18,
   "metadata": {},
   "outputs": [],
   "source": [
    "def most_used_words(dict1):\n",
    "    total_num_words = sum(dict1.values())\n",
    "    most_used = []\n",
    "    word_count = []\n",
    "    total_most_used = 0\n",
    "    word_iterator = iter(sorted(dict1.items(), key=lambda x: x[1], reverse=True))\n",
    "    while total_most_used < total_num_words*0.8:\n",
    "        word_tuple = next(word_iterator)\n",
    "        most_used.append(word_tuple[0])\n",
    "        total_most_used+=word_tuple[1]\n",
    "        word_count.append(word_tuple[1])\n",
    "    return most_used, word_count"
   ]
  },
  {
   "cell_type": "code",
   "execution_count": 19,
   "metadata": {},
   "outputs": [
    {
     "data": {
      "image/png": "[encoded data removed]",
      "text/plain": [
       "<Figure size 432x288 with 1 Axes>"
      ]
     },
     "metadata": {
      "needs_background": "light"
     },
     "output_type": "display_data"
    },
    {
     "name": "stdout",
     "output_type": "stream",
     "text": [
      "['это', 'омикрон', 'вакцина', 'мочь', 'весь', 'спутник', 'год', 'день', 'штамм', 'новый', 'коронавирус', 'болеть', 'вакцинация', 'ещ', 'делать', 'пока', 'код', 'случай', 'знать', 'месяц', 'говорить', '2', 'сказать', 'хороший', 'россия', 'нужный', 'врач', 'первый', 'свой', 'сделать', 'прививка', 'москва', 'вообще', 'иммунитет', 'думать', 'вопрос', '1', 'вирус', 'переболеть', 'заболеть', 'очень', 'время', '3', 'антител', 'неделя', '+', 'болезнь', 'должный', 'ничто', 'пцр', 'вс', '200', 'второй', 'каждый', 'анализ', 'давать', 'исследование', 'антитело', 'иметь', '19', 'пройти', 'маска', 'почему', 'декабрь', '0', 'заражение', 'вариант']\n"
     ]
    }
   ],
   "source": [
    "fig = plt.figure()\n",
    "ax = fig.add_axes([0,0,1,1])\n",
    "most_used, counts = most_used_words(sorted_dict)\n",
    "labels = most_used\n",
    "lengthes = counts\n",
    "ax.bar(labels, lengthes, color='b')\n",
    "plt.show()\n",
    "print(most_used)"
   ]
  },
  {
   "cell_type": "markdown",
   "metadata": {},
   "source": [
    "# Векторное представление слов"
   ]
  },
  {
   "cell_type": "code",
   "execution_count": 20,
   "metadata": {},
   "outputs": [],
   "source": [
    "import torch\n",
    "from torch import nn"
   ]
  },
  {
   "cell_type": "code",
   "execution_count": 21,
   "metadata": {},
   "outputs": [],
   "source": [
    "word2idx = {w: idx for (idx, w) in enumerate(unique_words)}\n",
    "idx2word = {idx: w for (idx, w) in enumerate(unique_words)}"
   ]
  },
  {
   "cell_type": "code",
   "execution_count": 22,
   "metadata": {},
   "outputs": [],
   "source": [
    "def CBOW(raw_text, window_size=2):  # continuous bag of words\n",
    "    data = []\n",
    "    for i in range(window_size, len(raw_text) - window_size):\n",
    "        context = [raw_text[i - window_size], raw_text[i - (window_size - 1)], raw_text[i + (window_size - 1)], raw_text[i + window_size]]\n",
    "        target = raw_text[i]\n",
    "        data.append((context, target))\n",
    "    return data\n",
    "class CBOW_Model(torch.nn.Module):\n",
    "    def __init__(self, vocab_size, embedding_dim):\n",
    "        super(CBOW_Model, self).__init__()\n",
    "        self.embeddings = nn.Embedding(vocab_size, embedding_dim)\n",
    "        self.linear1 = nn.Linear(embedding_dim, 128)\n",
    "        self.activation_function1 = nn.ReLU()\n",
    "        self.linear2 = nn.Linear(128, vocab_size)\n",
    "      \n",
    "\n",
    "    def forward(self, inputs):\n",
    "        embeds = sum(self.embeddings(inputs)).view(1,-1)\n",
    "        out = self.linear1(embeds)\n",
    "        out = self.activation_function1(out)\n",
    "        out = self.linear2(out)\n",
    "        return out\n",
    "def make_context_vector(context, word2idx):\n",
    "    vec = []\n",
    "    for word in context:\n",
    "        vec.append(word2idx[word])\n",
    "    return torch.tensor(vec)"
   ]
  },
  {
   "cell_type": "code",
   "execution_count": 24,
   "metadata": {},
   "outputs": [
    {
     "name": "stdout",
     "output_type": "stream",
     "text": [
      "[(['подросток', 'поскольку', 'тяжлый', 'заболевание'], 'бремя'), (['поскольку', 'бремя', 'заболевание', 'возрастной'], 'тяжлый'), (['бремя', 'тяжлый', 'возрастной', 'группа'], 'заболевание'), (['тяжлый', 'заболевание', 'группа', 'небольшой'], 'возрастной'), (['заболевание', 'возрастной', 'небольшой', 'высокий'], 'группа'), (['возрастной', 'группа', 'высокий', 'охват'], 'небольшой'), (['группа', 'небольшой', 'охват', 'вакцинация'], 'высокий'), (['небольшой', 'высокий', 'вакцинация', 'среди'], 'охват'), (['высокий', 'охват', 'среди', 'группа'], 'вакцинация'), (['охват', 'вакцинация', 'группа', 'подверженный'], 'среди')]\n"
     ]
    }
   ],
   "source": [
    "cbow = CBOW(preprocessed_data)\n",
    "print(cbow[10:20])"
   ]
  },
  {
   "cell_type": "code",
   "execution_count": 25,
   "metadata": {},
   "outputs": [
    {
     "name": "stdout",
     "output_type": "stream",
     "text": [
      "CBOW_Model(\n",
      "  (embeddings): Embedding(9780, 5)\n",
      "  (linear1): Linear(in_features=5, out_features=128, bias=True)\n",
      "  (activation_function1): ReLU()\n",
      "  (linear2): Linear(in_features=128, out_features=9780, bias=True)\n",
      ")\n"
     ]
    }
   ],
   "source": [
    "model = CBOW_Model(len(unique_words), 5)\n",
    "print(model)\n",
    "loss_function = nn.CrossEntropyLoss()\n",
    "optimizer = torch.optim.Adam(model.parameters(), lr=0.01)"
   ]
  },
  {
   "cell_type": "code",
   "execution_count": null,
   "metadata": {},
   "outputs": [
    {
     "data": {
      "application/vnd.jupyter.widget-view+json": {
       "model_id": "d203249796094cdf8491ec347cdde35a",
       "version_major": 2,
       "version_minor": 0
      },
      "text/plain": [
       "HBox(children=(FloatProgress(value=0.0, max=10.0), HTML(value='')))"
      ]
     },
     "metadata": {},
     "output_type": "display_data"
    }
   ],
   "source": [
    "# training\n",
    "for epoch in tqdm(range(10)):\n",
    "    total_loss = 0\n",
    "    for context, target in cbow:\n",
    "        context_vector = make_context_vector(context, word2idx) \n",
    "        output = model(context_vector)\n",
    "        target = torch.tensor([word2idx[target]])\n",
    "        total_loss += loss_function(output, target)\n",
    "    #optimize at the end of each epoch\n",
    "    optimizer.zero_grad()\n",
    "    total_loss.backward()\n",
    "    optimizer.step()"
   ]
  },
  {
   "cell_type": "code",
   "execution_count": null,
   "metadata": {},
   "outputs": [],
   "source": []
  }
 ],
 "metadata": {
  "kernelspec": {
   "display_name": "Python 3",
   "language": "python",
   "name": "python3"
  },
  "language_info": {
   "codemirror_mode": {
    "name": "ipython",
    "version": 3
   },
   "file_extension": ".py",
   "mimetype": "text/x-python",
   "name": "python",
   "nbconvert_exporter": "python",
   "pygments_lexer": "ipython3",
   "version": "3.8.3"
  }
 },
 "nbformat": 4,
 "nbformat_minor": 4
}
