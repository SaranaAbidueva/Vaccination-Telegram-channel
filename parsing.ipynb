{
 "cells": [
  {
   "cell_type": "code",
   "execution_count": 1,
   "metadata": {},
   "outputs": [
    {
     "name": "stdout",
     "output_type": "stream",
     "text": [
      "Requirement already satisfied: telethon in c:\\programdata\\anaconda3\\lib\\site-packages (1.23.0)\n",
      "Requirement already satisfied: rsa in c:\\programdata\\anaconda3\\lib\\site-packages (from telethon) (4.6)\n",
      "Requirement already satisfied: pyaes in c:\\programdata\\anaconda3\\lib\\site-packages (from telethon) (1.6.1)\n",
      "Requirement already satisfied: pyasn1>=0.1.3 in c:\\programdata\\anaconda3\\lib\\site-packages (from rsa->telethon) (0.4.8)\n"
     ]
    }
   ],
   "source": [
    "! pip install telethon"
   ]
  },
  {
   "cell_type": "code",
   "execution_count": 2,
   "metadata": {},
   "outputs": [],
   "source": [
    "import configparser\n",
    "import json"
   ]
  },
  {
   "cell_type": "code",
   "execution_count": 3,
   "metadata": {},
   "outputs": [],
   "source": [
    "from telethon.sync import TelegramClient\n",
    "from telethon import connection\n",
    "\n",
    "# для корректного переноса времени сообщений в json\n",
    "from datetime import date, datetime\n",
    "\n",
    "# классы для работы с каналами\n",
    "from telethon.tl.functions.channels import GetParticipantsRequest\n",
    "from telethon.tl.types import ChannelParticipantsSearch\n",
    "\n",
    "# класс для работы с сообщениями\n",
    "from telethon.tl.functions.messages import GetHistoryRequest"
   ]
  },
  {
   "cell_type": "code",
   "execution_count": 4,
   "metadata": {},
   "outputs": [
    {
     "data": {
      "text/plain": [
       "['config.ini']"
      ]
     },
     "execution_count": 4,
     "metadata": {},
     "output_type": "execute_result"
    }
   ],
   "source": [
    "# Считываем учетные данные\n",
    "config = configparser.ConfigParser()\n",
    "config.read(\"config.ini\")"
   ]
  },
  {
   "cell_type": "code",
   "execution_count": 5,
   "metadata": {},
   "outputs": [],
   "source": [
    "# Присваиваем значения внутренним переменным\n",
    "api_id   = config['Telegram']['api_id']\n",
    "api_hash = config['Telegram']['api_hash']\n",
    "username = config['Telegram']['username']"
   ]
  },
  {
   "cell_type": "code",
   "execution_count": 6,
   "metadata": {},
   "outputs": [
    {
     "name": "stdout",
     "output_type": "stream",
     "text": [
      "13961036\n",
      "sarana_a\n",
      "464de18557f9ca2861e76e942bd342e5\n"
     ]
    }
   ],
   "source": [
    "print(api_id)\n",
    "print(username)\n",
    "print(api_hash)"
   ]
  },
  {
   "cell_type": "code",
   "execution_count": 7,
   "metadata": {},
   "outputs": [],
   "source": [
    "client = TelegramClient(username, api_id, api_hash)"
   ]
  },
  {
   "cell_type": "code",
   "execution_count": 8,
   "metadata": {},
   "outputs": [
    {
     "data": {
      "text/plain": [
       "<coroutine object AuthMethods._start at 0x000002CDFD4EFC40>"
      ]
     },
     "execution_count": 8,
     "metadata": {},
     "output_type": "execute_result"
    }
   ],
   "source": [
    "client.start()"
   ]
  },
  {
   "cell_type": "code",
   "execution_count": 9,
   "metadata": {},
   "outputs": [],
   "source": [
    "async def dump_all_messages(channel):\n",
    "    #Записывает json-файл с информацией о всех сообщениях канала/чата\"\"\"\n",
    "    offset_msg = 0    # номер записи, с которой начинается считывание\n",
    "    limit_msg = 100   # максимальное число записей, передаваемых за один раз\n",
    "\n",
    "    all_messages = []   # список всех сообщений\n",
    "    total_messages = 0\n",
    "    total_count_limit = 5000  # поменяйте это значение, если вам нужны не все сообщения\n",
    "    class DateTimeEncoder(json.JSONEncoder):\n",
    "        #Класс для сериализации записи дат в JSON'''\n",
    "        def default(self, o):\n",
    "            if isinstance(o, datetime):\n",
    "                return o.isoformat()\n",
    "            if isinstance(o, bytes):\n",
    "                return list(o)\n",
    "            return json.JSONEncoder.default(self, o)\n",
    "\n",
    "    while True:\n",
    "        history = await client(GetHistoryRequest(\n",
    "            peer=channel,\n",
    "            offset_id=offset_msg,\n",
    "            offset_date=None, add_offset=0,\n",
    "            limit=limit_msg, max_id=0, min_id=0,\n",
    "            hash=0))\n",
    "        if not history.messages:\n",
    "            break\n",
    "        messages = history.messages\n",
    "        for message in messages:\n",
    "            all_messages.append(message.to_dict().get('message', 'error'))\n",
    "        offset_msg = messages[len(messages) - 1].id\n",
    "        total_messages = len(all_messages)\n",
    "        if total_count_limit != 0 and total_messages >= total_count_limit:\n",
    "            break\n",
    "\n",
    "    with open('channel_messages.json', 'w', encoding='utf8') as outfile:\n",
    "        json.dump(all_messages, outfile, ensure_ascii=False, cls=DateTimeEncoder)\n",
    "\n"
   ]
  },
  {
   "cell_type": "code",
   "execution_count": 10,
   "metadata": {},
   "outputs": [],
   "source": [
    "import nest_asyncio\n",
    "nest_asyncio.apply()\n",
    "from tqdm.notebook import tqdm"
   ]
  },
  {
   "cell_type": "code",
   "execution_count": 11,
   "metadata": {},
   "outputs": [
    {
     "data": {
      "application/vnd.jupyter.widget-view+json": {
       "model_id": "5de2a0e54100455d9b72fe712e37260c",
       "version_major": 2,
       "version_minor": 0
      },
      "text/plain": [
       "HBox(children=(FloatProgress(value=1.0, bar_style='info', max=1.0), HTML(value='')))"
      ]
     },
     "metadata": {},
     "output_type": "display_data"
    }
   ],
   "source": [
    "async def main():\n",
    "    url = 't.me/GamCOVIDVac'\n",
    "    channel = await client.get_entity(url)\n",
    "    #await dump_all_participants(channel)\n",
    "    await dump_all_messages(channel)\n",
    "\n",
    "\n",
    "async with client:\n",
    "    tqdm(client.loop.run_until_complete(main()))"
   ]
  }
 ],
 "metadata": {
  "kernelspec": {
   "display_name": "Python 3",
   "language": "python",
   "name": "python3"
  },
  "language_info": {
   "codemirror_mode": {
    "name": "ipython",
    "version": 3
   },
   "file_extension": ".py",
   "mimetype": "text/x-python",
   "name": "python",
   "nbconvert_exporter": "python",
   "pygments_lexer": "ipython3",
   "version": "3.8.3"
  }
 },
 "nbformat": 4,
 "nbformat_minor": 4
}
